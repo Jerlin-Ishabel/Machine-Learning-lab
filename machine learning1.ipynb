{
 "cells": [
  {
   "cell_type": "raw",
   "id": "209239a5-27c1-4c60-b47e-7eaaf7a7d085",
   "metadata": {},
   "source": [
    "1.classify emails as spam or not spam"
   ]
  },
  {
   "cell_type": "code",
   "execution_count": 1,
   "id": "6d4f2b78-c3d4-4ca3-b151-b7435a5f1fc7",
   "metadata": {},
   "outputs": [
    {
     "name": "stdout",
     "output_type": "stream",
     "text": [
      "Accuracy: 0.6666666666666666\n",
      "\n",
      "Classification Report:\n",
      "               precision    recall  f1-score   support\n",
      "\n",
      "    not spam       0.00      0.00      0.00         1\n",
      "        spam       0.67      1.00      0.80         2\n",
      "\n",
      "    accuracy                           0.67         3\n",
      "   macro avg       0.33      0.50      0.40         3\n",
      "weighted avg       0.44      0.67      0.53         3\n",
      "\n",
      "\n",
      "Example Prediction: 'Congratulations, you have a new reward!' is 'spam'\n"
     ]
    },
    {
     "name": "stderr",
     "output_type": "stream",
     "text": [
      "C:\\Users\\jjerl\\AppData\\Local\\Programs\\Python\\Python313\\Lib\\site-packages\\sklearn\\metrics\\_classification.py:1531: UndefinedMetricWarning: Precision is ill-defined and being set to 0.0 in labels with no predicted samples. Use `zero_division` parameter to control this behavior.\n",
      "  _warn_prf(average, modifier, f\"{metric.capitalize()} is\", len(result))\n",
      "C:\\Users\\jjerl\\AppData\\Local\\Programs\\Python\\Python313\\Lib\\site-packages\\sklearn\\metrics\\_classification.py:1531: UndefinedMetricWarning: Precision is ill-defined and being set to 0.0 in labels with no predicted samples. Use `zero_division` parameter to control this behavior.\n",
      "  _warn_prf(average, modifier, f\"{metric.capitalize()} is\", len(result))\n",
      "C:\\Users\\jjerl\\AppData\\Local\\Programs\\Python\\Python313\\Lib\\site-packages\\sklearn\\metrics\\_classification.py:1531: UndefinedMetricWarning: Precision is ill-defined and being set to 0.0 in labels with no predicted samples. Use `zero_division` parameter to control this behavior.\n",
      "  _warn_prf(average, modifier, f\"{metric.capitalize()} is\", len(result))\n"
     ]
    }
   ],
   "source": [
    "# Import necessary libraries\n",
    "from sklearn.feature_extraction.text import CountVectorizer\n",
    "from sklearn.model_selection import train_test_split\n",
    "from sklearn.naive_bayes import MultinomialNB\n",
    "from sklearn.metrics import accuracy_score, classification_report\n",
    "\n",
    "# Sample dataset\n",
    "emails = [\n",
    "    \"Win a free iPhone now!\",\n",
    "    \"Limited time offer, click here!\",\n",
    "    \"Hi, can we reschedule the meeting?\",\n",
    "    \"Your package is on the way\",\n",
    "    \"Congratulations, you have won a lottery!\",\n",
    "    \"Don't forget our team lunch tomorrow.\",\n",
    "    \"Exclusive deal just for you.\",\n",
    "    \"Can we catch up later today?\",\n",
    "]\n",
    "\n",
    "labels = [\"spam\", \"spam\", \"not spam\", \"not spam\", \"spam\", \"not spam\", \"spam\", \"not spam\"]\n",
    "\n",
    "# Text vectorization\n",
    "vectorizer = CountVectorizer()\n",
    "X = vectorizer.fit_transform(emails)\n",
    "\n",
    "# Split dataset into training and test sets\n",
    "X_train, X_test, y_train, y_test = train_test_split(X, labels, test_size=0.3, random_state=42)\n",
    "\n",
    "# Train the Naive Bayes classifier\n",
    "classifier = MultinomialNB()\n",
    "classifier.fit(X_train, y_train)\n",
    "\n",
    "# Predict on test data\n",
    "y_pred = classifier.predict(X_test)\n",
    "\n",
    "# Evaluate the model\n",
    "print(\"Accuracy:\", accuracy_score(y_test, y_pred))\n",
    "print(\"\\nClassification Report:\\n\", classification_report(y_test, y_pred))\n",
    "\n",
    "# Example prediction\n",
    "example_email = [\"Congratulations, you have a new reward!\"]\n",
    "example_vector = vectorizer.transform(example_email)\n",
    "prediction = classifier.predict(example_vector)\n",
    "print(f\"\\nExample Prediction: '{example_email[0]}' is '{prediction[0]}'\")"
   ]
  },
  {
   "cell_type": "raw",
   "id": "b26d8d00-ead4-4b55-bdef-ca45af35ff89",
   "metadata": {},
   "source": [
    "2. To predict whether someone likes pizza or not"
   ]
  },
  {
   "cell_type": "code",
   "execution_count": 2,
   "id": "4df17506-b2f6-4918-8363-3fa922bc1e68",
   "metadata": {},
   "outputs": [
    {
     "name": "stdout",
     "output_type": "stream",
     "text": [
      "Accuracy: 1.0\n",
      "\n",
      "Classification Report:\n",
      "               precision    recall  f1-score   support\n",
      "\n",
      "         yes       1.00      1.00      1.00         3\n",
      "\n",
      "    accuracy                           1.00         3\n",
      "   macro avg       1.00      1.00      1.00         3\n",
      "weighted avg       1.00      1.00      1.00         3\n",
      "\n",
      "\n",
      "Prediction: The person likes pizza.\n"
     ]
    }
   ],
   "source": [
    "# Import necessary libraries\n",
    "import pandas as pd\n",
    "from sklearn.model_selection import train_test_split\n",
    "from sklearn.ensemble import RandomForestClassifier\n",
    "from sklearn.metrics import accuracy_score, classification_report\n",
    "\n",
    "# Sample dataset\n",
    "data = {\n",
    "    \"age\": [15, 25, 35, 45, 55, 22, 40, 28, 18, 60],\n",
    "    \"likes_cheese\": [1, 1, 0, 1, 0, 1, 0, 1, 1, 0],\n",
    "    \"vegetarian\": [0, 0, 1, 0, 1, 0, 1, 0, 0, 1],\n",
    "    \"likes_spicy\": [1, 0, 0, 1, 0, 1, 0, 1, 1, 0],\n",
    "    \"likes_pizza\": [\"yes\", \"yes\", \"no\", \"yes\", \"no\", \"yes\", \"no\", \"yes\", \"yes\", \"no\"]\n",
    "}\n",
    "\n",
    "# Convert dataset to DataFrame\n",
    "df = pd.DataFrame(data)\n",
    "\n",
    "# Features (X) and target (y)\n",
    "X = df[[\"age\", \"likes_cheese\", \"vegetarian\", \"likes_spicy\"]]\n",
    "y = df[\"likes_pizza\"]\n",
    "\n",
    "# Split dataset into training and test sets\n",
    "X_train, X_test, y_train, y_test = train_test_split(X, y, test_size=0.3, random_state=42)\n",
    "\n",
    "# Train a Random Forest Classifier\n",
    "model = RandomForestClassifier(random_state=42)\n",
    "model.fit(X_train, y_train)\n",
    "\n",
    "# Predict on the test data\n",
    "y_pred = model.predict(X_test)\n",
    "\n",
    "# Evaluate the model\n",
    "print(\"Accuracy:\", accuracy_score(y_test, y_pred))\n",
    "print(\"\\nClassification Report:\\n\", classification_report(y_test, y_pred))\n",
    "\n",
    "# Example prediction\n",
    "example_person = {\"age\": 30, \"likes_cheese\": 1, \"vegetarian\": 0, \"likes_spicy\": 1}\n",
    "example_df = pd.DataFrame([example_person])\n",
    "prediction = model.predict(example_df)\n",
    "print(f\"\\nPrediction: The person {'likes' if prediction[0] == 'yes' else 'does not like'} pizza.\")"
   ]
  }
 ],
 "metadata": {
  "kernelspec": {
   "display_name": "Python 3 (ipykernel)",
   "language": "python",
   "name": "python3"
  },
  "language_info": {
   "codemirror_mode": {
    "name": "ipython",
    "version": 3
   },
   "file_extension": ".py",
   "mimetype": "text/x-python",
   "name": "python",
   "nbconvert_exporter": "python",
   "pygments_lexer": "ipython3",
   "version": "3.13.0"
  }
 },
 "nbformat": 4,
 "nbformat_minor": 5
}
