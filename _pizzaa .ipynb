{
 "cells": [
  {
   "cell_type": "code",
   "execution_count": 1,
   "id": "8231c2bd-11c5-494b-bacb-7175f90da9dc",
   "metadata": {},
   "outputs": [
    {
     "name": "stdout",
     "output_type": "stream",
     "text": [
      "Accuracy: 1.0\n",
      "\n",
      "Classification Report:\n",
      "               precision    recall  f1-score   support\n",
      "\n",
      "           0       1.00      1.00      1.00         1\n",
      "           1       1.00      1.00      1.00         1\n",
      "\n",
      "    accuracy                           1.00         2\n",
      "   macro avg       1.00      1.00      1.00         2\n",
      "weighted avg       1.00      1.00      1.00         2\n",
      "\n",
      "Prediction (1 means likes pizza, 0 means does not like pizza): 1\n"
     ]
    }
   ],
   "source": [
    "import pandas as pd\n",
    "from sklearn.model_selection import train_test_split\n",
    "from sklearn.ensemble import RandomForestClassifier \n",
    "from sklearn.metrics import accuracy_score, classification_report\n",
    "\n",
    "df = pd.read_csv('pizzaa.csv') \n",
    "\n",
    "# Convert categorical variables to numeric\n",
    "df[\"Frequency of Eating Out\"] = df[\"Frequency of Eating Out\"].map({\"Daily\": 0, \"Weekly\": 1, \"Monthly\": 2, \"Rarely\": 3})\n",
    "df[\"Favorite Cuisine\"] = df[\"Favorite Cuisine\"].map({\"Italian\": 0, \"Chinese\": 1, \"Indian\": 2, \"Mexican\": 3})\n",
    "df[\"Dietary Restrictions\"] = df[\"Dietary Restrictions\"].map({\"None\": 0, \"Vegetarian\": 1, \"Vegan\": 2, \"Gluten-Free\": 3})\n",
    "df[\"Income Level\"] = df[\"Income Level\"].map({\"Low\": 0, \"Medium\": 1, \"High\": 2})\n",
    "df[\"Social Media Usage\"] = df[\"Social Media Usage\"].map({\"Rarely\": 0, \"Weekly\": 1, \"Daily\": 2})\n",
    "df[\"Physical Activity Level\"] = df[\"Physical Activity Level\"].map({\"Sedentary\": 0, \"Moderate\": 1, \"Active\": 2})\n",
    "\n",
    "# Define features and target variable\n",
    "X = df[[\"Age\", \"Gender\",\"Likes Italian Food\", \"Frequency of Eating Out\", \"Favorite Cuisine\", \"Spicy Food Preference\", \"Dietary Restrictions\", \n",
    "        \"Income Level\", \"Social Media Usage\", \"Physical Activity Level\"]]\n",
    "y = df[\"Likes Pizza\"]\n",
    "\n",
    "\n",
    "# Split the data into training and test sets\n",
    "X_train, X_test, y_train, y_test = train_test_split(X, y, test_size=0.2, random_state=42)\n",
    "\n",
    "# Create a RandomForestClassifiermodel\n",
    "model = RandomForestClassifier(random_state=42)\n",
    "model.fit(X_train, y_train)\n",
    "\n",
    "# Make predictions\n",
    "y_pred = model.predict(X_test)\n",
    "\n",
    "# Evaluate the model's performance\n",
    "print(\"Accuracy:\", accuracy_score(y_test, y_pred))\n",
    "print(\"\\nClassification Report:\\n\", classification_report(y_test, y_pred))\n",
    "\n",
    "# Example of predicting whether someone likes pizza\n",
    "example = pd.DataFrame({\n",
    "    \"Age\": [30],\n",
    "    \"Gender\": [1],\n",
    "    \"Likes Italian Food\": [8],\n",
    "    \"Frequency of Eating Out\":[1],\n",
    "    \"Favorite Cuisine\": [0],\n",
    "    \"Spicy Food Preference\": [7],\n",
    "    \"Dietary Restrictions\": [0],\n",
    "    \"Income Level\": [1],\n",
    "    \"Social Media Usage\": [2],\n",
    "    \"Physical Activity Level\": [1]\n",
    "})\n",
    "prediction = model.predict(example)\n",
    "\n",
    "print(\"Prediction (1 means likes pizza, 0 means does not like pizza):\", prediction[0])"
   ]
  }
 ],
 "metadata": {
  "kernelspec": {
   "display_name": "Python 3 (ipykernel)",
   "language": "python",
   "name": "python3"
  },
  "language_info": {
   "codemirror_mode": {
    "name": "ipython",
    "version": 3
   },
   "file_extension": ".py",
   "mimetype": "text/x-python",
   "name": "python",
   "nbconvert_exporter": "python",
   "pygments_lexer": "ipython3",
   "version": "3.13.0"
  }
 },
 "nbformat": 4,
 "nbformat_minor": 5
}
