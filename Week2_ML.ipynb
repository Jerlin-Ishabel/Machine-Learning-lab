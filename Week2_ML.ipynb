{
 "cells": [
  {
   "cell_type": "markdown",
   "id": "47439920",
   "metadata": {},
   "source": [
    "# Week2:\n",
    "# a, Movie Genre Prediction"
   ]
  },
  {
   "cell_type": "code",
   "execution_count": 1,
   "id": "ec986ca8",
   "metadata": {},
   "outputs": [
    {
     "name": "stdout",
     "output_type": "stream",
     "text": [
      "Class distribution in the target variable:\n",
      "1    3\n",
      "0    2\n",
      "Name: genre, dtype: int64\n",
      "Classification Report:\n",
      "              precision    recall  f1-score   support\n",
      "\n",
      "           0       0.00      0.00      0.00         1\n",
      "           1       0.50      1.00      0.67         1\n",
      "\n",
      "    accuracy                           0.50         2\n",
      "   macro avg       0.25      0.50      0.33         2\n",
      "weighted avg       0.25      0.50      0.33         2\n",
      "\n"
     ]
    }
   ],
   "source": [
    "import pandas as pd\n",
    "from sklearn.model_selection import train_test_split\n",
    "from sklearn.preprocessing import StandardScaler, LabelEncoder\n",
    "from sklearn.ensemble import RandomForestClassifier\n",
    "from sklearn.metrics import classification_report\n",
    "\n",
    "# Load the dataset\n",
    "df = pd.read_csv(\"movie.csv\")\n",
    "\n",
    "# Encode categorical features\n",
    "label_encoder = LabelEncoder()\n",
    "df['language'] = label_encoder.fit_transform(df['language'])\n",
    "df['genre'] = label_encoder.fit_transform(df['genre'])\n",
    "df['director'] = label_encoder.fit_transform(df['director'])\n",
    "\n",
    "# Remove rare classes with fewer than 2 samples\n",
    "class_counts = df['genre'].value_counts()\n",
    "rare_classes = class_counts[class_counts < 2].index\n",
    "df = df[~df['genre'].isin(rare_classes)]\n",
    "\n",
    "# Features and target\n",
    "X = df[['duration', 'language', 'average_rating', 'number_of_reviews', 'year', 'budget', 'revenue']]\n",
    "y = df['genre']\n",
    "\n",
    "# Check class distribution\n",
    "print(\"Class distribution in the target variable:\")\n",
    "print(df['genre'].value_counts())\n",
    "\n",
    "# Scale features\n",
    "scaler = StandardScaler()\n",
    "X_scaled = scaler.fit_transform(X)\n",
    "\n",
    "# Split the data with stratification\n",
    "X_train, X_test, y_train, y_test = train_test_split(X_scaled, y, test_size=0.3, random_state=42, stratify=y)\n",
    "\n",
    "# Train a classifier with class weights to handle imbalance\n",
    "clf = RandomForestClassifier(random_state=42, class_weight=\"balanced\")\n",
    "clf.fit(X_train, y_train)\n",
    "\n",
    "# Predictions\n",
    "y_pred = clf.predict(X_test)\n",
    "\n",
    "# Evaluate using classification report with zero_division parameter\n",
    "print(\"Classification Report:\")\n",
    "print(classification_report(y_test, y_pred, zero_division=0))"
   ]
  },
  {
   "cell_type": "markdown",
   "id": "c0968b93",
   "metadata": {},
   "source": [
    "# b, Sports Performance Analysis"
   ]
  },
  {
   "cell_type": "code",
   "execution_count": 2,
   "id": "d14d5610",
   "metadata": {},
   "outputs": [
    {
     "name": "stdout",
     "output_type": "stream",
     "text": [
      "              precision    recall  f1-score   support\n",
      "\n",
      "     Average       0.00      1.00      0.00       0.0\n",
      "   Excellent       1.00      0.00      0.00       1.0\n",
      "        Good       1.00      0.00      0.00       1.0\n",
      "\n",
      "    accuracy                           0.00       2.0\n",
      "   macro avg       0.67      0.33      0.00       2.0\n",
      "weighted avg       1.00      0.00      0.00       2.0\n",
      "\n"
     ]
    }
   ],
   "source": [
    "import pandas as pd\n",
    "from sklearn.model_selection import train_test_split\n",
    "from sklearn.neighbors import KNeighborsClassifier\n",
    "from sklearn.metrics import classification_report\n",
    "\n",
    "# Load the dataset\n",
    "df = pd.read_csv(\"sports.csv\")\n",
    "\n",
    "# Features and target\n",
    "X = df[['accuracy', 'speed', 'stamina', 'age']].copy()  # Ensure X is a copy\n",
    "y = df['performance'].copy()  # Ensure y is a copy\n",
    "\n",
    "# Include outliers\n",
    "outlier = pd.DataFrame([[200, 15, 150, 30]], columns=X.columns)\n",
    "X = pd.concat([X, outlier], ignore_index=True)\n",
    "\n",
    "# Add a corresponding target value for the outlier using pd.concat\n",
    "y = pd.concat([y, pd.Series(['excellent'])], ignore_index=True)\n",
    "\n",
    "# Split the data\n",
    "X_train, X_test, y_train, y_test = train_test_split(X, y, test_size=0.3, random_state=42)\n",
    "\n",
    "# Train k-NN model\n",
    "knn = KNeighborsClassifier(n_neighbors=3)\n",
    "knn.fit(X_train, y_train)\n",
    "\n",
    "# Predictions\n",
    "y_pred = knn.predict(X_test)\n",
    "\n",
    "# Evaluate with zero_division set to 1 to avoid warnings\n",
    "print(classification_report(y_test, y_pred, zero_division=1))\n"
   ]
  }
 ],
 "metadata": {
  "kernelspec": {
   "display_name": "Python 3 (ipykernel)",
   "language": "python",
   "name": "python3"
  },
  "language_info": {
   "codemirror_mode": {
    "name": "ipython",
    "version": 3
   },
   "file_extension": ".py",
   "mimetype": "text/x-python",
   "name": "python",
   "nbconvert_exporter": "python",
   "pygments_lexer": "ipython3",
   "version": "3.9.12"
  }
 },
 "nbformat": 4,
 "nbformat_minor": 5
}
