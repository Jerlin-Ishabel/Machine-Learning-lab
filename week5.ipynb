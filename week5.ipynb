{
 "cells": [
  {
   "cell_type": "code",
   "execution_count": 1,
   "id": "2ae3942b-16db-430b-97d9-7d1949b58313",
   "metadata": {},
   "outputs": [
    {
     "ename": "SyntaxError",
     "evalue": "invalid syntax (3274828510.py, line 6)",
     "output_type": "error",
     "traceback": [
      "\u001b[1;36m  Cell \u001b[1;32mIn[1], line 6\u001b[1;36m\u001b[0m\n\u001b[1;33m    data = pd.read_csv(&quot;diabetes.csv&quot;)\u001b[0m\n\u001b[1;37m                       ^\u001b[0m\n\u001b[1;31mSyntaxError\u001b[0m\u001b[1;31m:\u001b[0m invalid syntax\n"
     ]
    }
   ],
   "source": [
    "import pandas as pd\n",
    "from sklearn.model_selection import train_test_split\n",
    "from sklearn.linear_model import LogisticRegression\n",
    "from sklearn.metrics import accuracy_score, classification_report\n",
    "# Load dataset\n",
    "data = pd.read_csv(&quot;diabetes.csv&quot;)\n",
    "X = data[[&#39;age&#39;, &#39;bmi&#39;, &#39;blood_pressure&#39;, &#39;glucose&#39;]]\n",
    "y = data[&#39;diabetes&#39;]\n",
    "# Split the data\n",
    "X_train, X_test, y_train, y_test = train_test_split(X, y, test_size=0.2, random_state=42)\n",
    "# Train Logistic Regression model\n",
    "model = LogisticRegression()\n",
    "model.fit(X_train, y_train)\n",
    "# Predict and evaluate\n",
    "y_pred = model.predict(X_test)\n",
    "print(&quot;Accuracy:&quot;, accuracy_score(y_test, y_pred))\n",
    "print(&quot;Classification Report:\\n&quot;, classification_report(y_test, y_pred))"
   ]
  },
  {
   "cell_type": "code",
   "execution_count": 2,
   "id": "17390724-facb-4418-a1dc-20a07b92ebbb",
   "metadata": {},
   "outputs": [
    {
     "ename": "SyntaxError",
     "evalue": "invalid syntax (4287819361.py, line 7)",
     "output_type": "error",
     "traceback": [
      "\u001b[1;36m  Cell \u001b[1;32mIn[2], line 7\u001b[1;36m\u001b[0m\n\u001b[1;33m    data = pd.read_csv(&quot;credit_card_default.csv&quot;)\u001b[0m\n\u001b[1;37m                       ^\u001b[0m\n\u001b[1;31mSyntaxError\u001b[0m\u001b[1;31m:\u001b[0m invalid syntax\n"
     ]
    }
   ],
   "source": [
    "import pandas as pd\n",
    "from sklearn.model_selection import train_test_split\n",
    "from sklearn.linear_model import LogisticRegression\n",
    "from sklearn.metrics import accuracy_score, classification_report\n",
    "from sklearn.utils.class_weight import compute_class_weight\n",
    "# Load dataset\n",
    "data = pd.read_csv(&quot;credit_card_default.csv&quot;)\n",
    "X = data[[&#39;income&#39;, &#39;credit_score&#39;, &#39;age&#39;, &#39;loan_amount&#39;]]\n",
    "y = data[&#39;default&#39;]\n",
    "# Analyze class distribution\n",
    "print(&quot;Class Distribution:\\n&quot;, y.value_counts())\n",
    "# Split the data\n",
    "X_train, X_test, y_train, y_test = train_test_split(X, y, test_size=0.2, random_state=42)\n",
    "# Train Logistic Regression model with class weights\n",
    "model = LogisticRegression(class_weight=&#39;balanced&#39;)\n",
    "model.fit(X_train, y_train)\n",
    "# Predict and evaluate\n",
    "y_pred = model.predict(X_test)\n",
    "print(&quot;Accuracy:&quot;, accuracy_score(y_test, y_pred))\n",
    "print(&quot;Classification Report:\\n&quot;, classification_report(y_test, y_pred, zero_division=1))"
   ]
  },
  {
   "cell_type": "code",
   "execution_count": null,
   "id": "c245453b-893d-41d5-a964-bc2196215477",
   "metadata": {},
   "outputs": [],
   "source": [
    "import pandas as pd\n",
    "from sklearn.model_selection import train_test_split\n",
    "from sklearn.linear_model import LogisticRegression\n",
    "from sklearn.metrics import accuracy_score, classification_report\n",
    "# Load dataset\n",
    "data = pd.read_csv(&quot;diabetes.csv&quot;)\n",
    "X = data[[&#39;age&#39;, &#39;bmi&#39;, &#39;blood_pressure&#39;, &#39;glucose&#39;]]\n",
    "y = data[&#39;diabetes&#39;]\n",
    "# Split the data\n",
    "X_train, X_test, y_train, y_test = train_test_split(X, y, test_size=0.2, random_state=42)\n",
    "# Train Logistic Regression model\n",
    "model = LogisticRegression()\n",
    "model.fit(X_train, y_train)\n",
    "# Predict and evaluate\n",
    "y_pred = model.predict(X_test)\n",
    "print(&quot;Accuracy:&quot;, accuracy_score(y_test, y_pred))\n",
    "print(&quot;Classification Report:\\n&quot;, classification_report(y_test, y_pred))"
   ]
  }
 ],
 "metadata": {
  "kernelspec": {
   "display_name": "Python 3 (ipykernel)",
   "language": "python",
   "name": "python3"
  },
  "language_info": {
   "codemirror_mode": {
    "name": "ipython",
    "version": 3
   },
   "file_extension": ".py",
   "mimetype": "text/x-python",
   "name": "python",
   "nbconvert_exporter": "python",
   "pygments_lexer": "ipython3",
   "version": "3.13.0"
  }
 },
 "nbformat": 4,
 "nbformat_minor": 5
}
