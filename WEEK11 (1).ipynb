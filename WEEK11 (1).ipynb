{
 "cells": [
  {
   "cell_type": "code",
   "execution_count": 16,
   "id": "5e8e2842-aaa0-473f-8556-9e2b2d3fb1fa",
   "metadata": {},
   "outputs": [],
   "source": [
    "import pandas as pd\n",
    "from sklearn.cluster import KMeans\n",
    "from sklearn.preprocessing import StandardScaler\n",
    "\n",
    "# Load & preprocess data\n",
    "df = pd.read_csv(\"customer_segmented_dataset.csv\")\n",
    "X = pd.get_dummies(df[['Age', 'Annual_Income', 'Spending_Score', 'Gender', 'Membership_Duration']], \n",
    "                   columns=['Gender'], drop_first=True)\n",
    "\n",
    "# Standardization\n",
    "X_scaled = StandardScaler().fit_transform(X)\n",
    "\n",
    "# Train K-Means model with optimal clusters (determined using the elbow method)\n",
    "df['Cluster'] = KMeans(n_clusters=5, init='k-means++', random_state=42).fit_predict(X_scaled)\n",
    "\n",
    "# Save clustered data\n",
    "df.to_csv(\"customer_segmented_dataset.csv\", index=False)\n"
   ]
  },
  {
   "cell_type": "code",
   "execution_count": 17,
   "id": "10a6d707-8892-4de7-a885-2925965827fa",
   "metadata": {},
   "outputs": [],
   "source": [
    "import pandas as pd\n",
    "from sklearn.cluster import KMeans\n",
    "from sklearn.preprocessing import StandardScaler\n",
    "\n",
    "# Load & preprocess data\n",
    "df = pd.read_csv(\"product_recommendation.csv\")\n",
    "X_scaled = StandardScaler().fit_transform(df[['product_sales', 'product_rating', 'customer_review', 'product_quality']])\n",
    "\n",
    "# Train K-Means model (optimal clusters chosen from elbow method)\n",
    "df['Customer_Segment'] = KMeans(n_clusters=5, init='k-means++', random_state=42).fit_predict(X_scaled)\n",
    "\n",
    "# Save clustered data\n",
    "df.to_csv(\"customer_segments.csv\", index=False)\n"
   ]
  },
  {
   "cell_type": "code",
   "execution_count": 18,
   "id": "b8622f21-35f5-4672-a56a-6ee819733ba0",
   "metadata": {},
   "outputs": [],
   "source": [
    "import pandas as pd\n",
    "from sklearn.cluster import KMeans\n",
    "from sklearn.preprocessing import StandardScaler\n",
    "\n",
    "# Load & preprocess data\n",
    "df = pd.read_csv(\"tourist_behaviour.csv\")\n",
    "X_scaled = StandardScaler().fit_transform(df[['Spending_Budget', 'Trip_Frequency', 'Travel_Duration', 'Preferred_Attractions', 'Online_Bookings']])\n",
    "\n",
    "# Train K-Means model (optimal clusters chosen from elbow method)\n",
    "df['Tourist_Segment'] = KMeans(n_clusters=5, init='k-means++', random_state=42).fit_predict(X_scaled)\n",
    "\n",
    "# Save clustered data\n",
    "df.to_csv(\"tourist_segments.csv\", index=False)\n"
   ]
  },
  {
   "cell_type": "code",
   "execution_count": null,
   "id": "8a1617cf-2127-4175-bd26-df100520ef42",
   "metadata": {},
   "outputs": [],
   "source": []
  }
 ],
 "metadata": {
  "kernelspec": {
   "display_name": "Python 3 (ipykernel)",
   "language": "python",
   "name": "python3"
  },
  "language_info": {
   "codemirror_mode": {
    "name": "ipython",
    "version": 3
   },
   "file_extension": ".py",
   "mimetype": "text/x-python",
   "name": "python",
   "nbconvert_exporter": "python",
   "pygments_lexer": "ipython3",
   "version": "3.13.0"
  }
 },
 "nbformat": 4,
 "nbformat_minor": 5
}
