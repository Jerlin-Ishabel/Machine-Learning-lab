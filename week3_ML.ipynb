{
 "cells": [
  {
   "cell_type": "markdown",
   "id": "495a6af2-e511-45a9-a7d5-55484b55b41d",
   "metadata": {},
   "source": [
    "# Week 3:"
   ]
  },
  {
   "cell_type": "markdown",
   "id": "9da4be4e-ad61-4f54-8cbf-f298f9ca70cd",
   "metadata": {},
   "source": [
    "# a, Fuel Amount Prediction Using Linear Regression"
   ]
  },
  {
   "cell_type": "code",
   "execution_count": 1,
   "id": "680418da-a966-44cb-9dd0-f0dce0b3abe7",
   "metadata": {},
   "outputs": [
    {
     "name": "stdout",
     "output_type": "stream",
     "text": [
      "Dataset Preview:\n",
      "   distance  fuel\n",
      "0        10   0.8\n",
      "1        20   1.6\n",
      "2        30   2.4\n",
      "3        40   3.2\n",
      "4        50   4.0\n",
      "Mean Squared Error: 0.0\n",
      "Model Coefficients:\n",
      "Intercept: 0.0\n",
      "Slope: 0.08\n",
      "Predicted fuel for 150 km: 12.00 liters\n"
     ]
    }
   ],
   "source": [
    "import pandas as pd\n",
    "from sklearn.model_selection import train_test_split\n",
    "from sklearn.linear_model import LinearRegression\n",
    "from sklearn.metrics import mean_squared_error\n",
    "\n",
    "# Load the dataset\n",
    "# Replace 'fuel_data.csv' with the path to your CSV file\n",
    "df = pd.read_csv(\"fuel_data.csv\")\n",
    "\n",
    "# Display first few rows to check data structure\n",
    "print(\"Dataset Preview:\")\n",
    "print(df.head())\n",
    "\n",
    "# Features and target\n",
    "X = df[['distance']]  # Feature: distance traveled\n",
    "y = df['fuel']  # Target: fuel consumed\n",
    "\n",
    "# Split the data into training and testing sets\n",
    "X_train, X_test, y_train, y_test = train_test_split(X, y, test_size=0.2, random_state=42)\n",
    "\n",
    "# Initialize and train the Linear Regression model\n",
    "model = LinearRegression()\n",
    "model.fit(X_train, y_train)\n",
    "\n",
    "# Make predictions\n",
    "y_pred = model.predict(X_test)\n",
    "\n",
    "# Evaluate the model\n",
    "mse = mean_squared_error(y_test, y_pred)\n",
    "print(f\"Mean Squared Error: {mse}\")\n",
    "\n",
    "# Coefficients of the model\n",
    "print(\"Model Coefficients:\")\n",
    "print(f\"Intercept: {model.intercept_}\")\n",
    "print(f\"Slope: {model.coef_[0]}\")\n",
    "\n",
    "# Predict fuel for a specific distance\n",
    "new_distance = pd.DataFrame({'distance': [150]})  # Create DataFrame for new input\n",
    "predicted_fuel = model.predict(new_distance)\n",
    "print(f\"Predicted fuel for {new_distance.iloc[0, 0]} km: {predicted_fuel[0]:.2f} liters\")"
   ]
  },
  {
   "cell_type": "markdown",
   "id": "74d075d4-be62-496a-8853-1116c36b5fca",
   "metadata": {},
   "source": [
    "# b, Salary Prediction"
   ]
  },
  {
   "cell_type": "code",
   "execution_count": 4,
   "id": "7c1de2dd-dc85-42c9-aac0-72fb5e385ec1",
   "metadata": {},
   "outputs": [
    {
     "name": "stdout",
     "output_type": "stream",
     "text": [
      "Dataset Preview:\n",
      "   years_experience  qualification   industry location  salary\n",
      "0                 2              2         IT    CityA   50000\n",
      "1                 5              3    Finance    CityB   80000\n",
      "2                 3              2         IT    CityA   55000\n",
      "3                 7              4    Finance    CityB   90000\n",
      "4                 1              1  Marketing    CityC   45000\n",
      "Mean Squared Error: 4674945.215485746\n",
      "Predicted salary for the new profile: 72162.16\n"
     ]
    }
   ],
   "source": [
    "import pandas as pd\n",
    "from sklearn.model_selection import train_test_split\n",
    "from sklearn.linear_model import LinearRegression\n",
    "from sklearn.metrics import mean_squared_error\n",
    "\n",
    "# Load the dataset\n",
    "df = pd.read_csv(\"salary_data.csv\")\n",
    "\n",
    "# Display dataset preview\n",
    "print(\"Dataset Preview:\")\n",
    "print(df.head())\n",
    "\n",
    "# One-hot encoding for categorical features (industry and location)\n",
    "df = pd.get_dummies(df, columns=['industry', 'location'], drop_first=True)\n",
    "\n",
    "# Features and target\n",
    "X = df[['years_experience', 'qualification'] + [col for col in df.columns if 'industry_' in col or 'location_' in col]]\n",
    "y = df['salary']\n",
    "\n",
    "# Split the data into training and testing sets\n",
    "X_train, X_test, y_train, y_test = train_test_split(X, y, test_size=0.2, random_state=42)\n",
    "\n",
    "# Initialize and train the Linear Regression model\n",
    "model = LinearRegression()\n",
    "model.fit(X_train, y_train)\n",
    "\n",
    "# Make predictions\n",
    "y_pred = model.predict(X_test)\n",
    "\n",
    "# Evaluate the model\n",
    "mse = mean_squared_error(y_test, y_pred)\n",
    "print(f\"Mean Squared Error: {mse}\")\n",
    "\n",
    "# Ensure the new profile matches the training data structure\n",
    "new_data = pd.DataFrame({\n",
    "    'years_experience': [5],\n",
    "    'qualification': [3],\n",
    "    'industry_IT': [1],\n",
    "    'industry_Marketing': [0],  # Ensure this matches training columns\n",
    "    'location_CityB': [1],\n",
    "    'location_CityC': [0],\n",
    "}, columns=X_train.columns)  # Ensure exact column alignment\n",
    "\n",
    "# Predict salary for the specific profile\n",
    "predicted_salary = model.predict(new_data)\n",
    "print(f\"Predicted salary for the new profile: {predicted_salary[0]:.2f}\")"
   ]
  },
  {
   "cell_type": "markdown",
   "id": "477b5b65-8f1f-48cf-ab8b-0e4b45de895d",
   "metadata": {},
   "source": [
    "# c, Electricity Consumption Prediction"
   ]
  },
  {
   "cell_type": "code",
   "execution_count": 6,
   "id": "7b9749bb-4738-4a39-a396-c03bb3b79c70",
   "metadata": {},
   "outputs": [
    {
     "name": "stdout",
     "output_type": "stream",
     "text": [
      "Dataset Preview:\n",
      "   household_size  num_appliances  daily_usage_hours  season  \\\n",
      "0               3               5                  5  Winter   \n",
      "1               4               8                  6  Summer   \n",
      "2               2               3                  4  Spring   \n",
      "3               5              10                  8  Winter   \n",
      "4               3               4                  6  Summer   \n",
      "\n",
      "   electricity_consumption  \n",
      "0                      120  \n",
      "1                      150  \n",
      "2                       90  \n",
      "3                      200  \n",
      "4                      130  \n",
      "Mean Squared Error: 258.47905060053984\n",
      "Predicted electricity consumption for the new profile: 169.62\n"
     ]
    }
   ],
   "source": [
    "import pandas as pd\n",
    "from sklearn.model_selection import train_test_split\n",
    "from sklearn.preprocessing import StandardScaler\n",
    "from sklearn.linear_model import LinearRegression\n",
    "from sklearn.metrics import mean_squared_error\n",
    "\n",
    "# Load the dataset\n",
    "# Replace 'electricity_data.csv' with the path to your CSV file\n",
    "df = pd.read_csv(\"electricity_data.csv\")\n",
    "\n",
    "# Display dataset preview\n",
    "print(\"Dataset Preview:\")\n",
    "print(df.head())\n",
    "\n",
    "# One-hot encoding for the categorical feature 'season'\n",
    "df = pd.get_dummies(df, columns=['season'], drop_first=True)\n",
    "\n",
    "# Features and target\n",
    "X = df[['household_size', 'num_appliances', 'daily_usage_hours'] + [col for col in df.columns if 'season_' in col]]\n",
    "y = df['electricity_consumption']\n",
    "\n",
    "# Feature scaling\n",
    "scaler = StandardScaler()\n",
    "X_scaled = scaler.fit_transform(X)\n",
    "\n",
    "# Split the data into training and testing sets\n",
    "X_train, X_test, y_train, y_test = train_test_split(X_scaled, y, test_size=0.2, random_state=42)\n",
    "\n",
    "# Initialize and train the Linear Regression model\n",
    "model = LinearRegression()\n",
    "model.fit(X_train, y_train)\n",
    "\n",
    "# Make predictions\n",
    "y_pred = model.predict(X_test)\n",
    "\n",
    "# Evaluate the model\n",
    "mse = mean_squared_error(y_test, y_pred)\n",
    "print(f\"Mean Squared Error: {mse}\")\n",
    "\n",
    "# Ensure the new profile matches the training data structure\n",
    "new_data = pd.DataFrame({\n",
    "    'household_size': [4],\n",
    "    'num_appliances': [8],\n",
    "    'daily_usage_hours': [6],\n",
    "    'season_Summer': [0],\n",
    "    'season_Winter': [1],\n",
    "    'season_Spring': [0]  # Ensure all season columns are present\n",
    "}, columns=X.columns)  # Align with the training data structure\n",
    "\n",
    "# Scale the new data\n",
    "new_data_scaled = scaler.transform(new_data)\n",
    "\n",
    "# Predict electricity consumption for the new profile\n",
    "predicted_consumption = model.predict(new_data_scaled)\n",
    "print(f\"Predicted electricity consumption for the new profile: {predicted_consumption[0]:.2f}\")"
   ]
  }
 ],
 "metadata": {
  "kernelspec": {
   "display_name": "Python 3 (ipykernel)",
   "language": "python",
   "name": "python3"
  },
  "language_info": {
   "codemirror_mode": {
    "name": "ipython",
    "version": 3
   },
   "file_extension": ".py",
   "mimetype": "text/x-python",
   "name": "python",
   "nbconvert_exporter": "python",
   "pygments_lexer": "ipython3",
   "version": "3.13.0"
  }
 },
 "nbformat": 4,
 "nbformat_minor": 5
}
